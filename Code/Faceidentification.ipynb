{
  "cells": [
    {
      "cell_type": "code",
      "execution_count": null,
      "metadata": {
        "colab": {
          "base_uri": "https://localhost:8080/"
        },
        "id": "Msgl0HUzTz0I",
        "outputId": "2e759511-6a26-4f59-c7fa-60a008f8805f"
      },
      "outputs": [],
      "source": [
        "import os\n",
        "import random as rand\n",
        "import pandas as pd\n",
        "import matplotlib.pyplot as plt\n",
        "from PIL import Image\n",
        "from numpy import asarray\n",
        "from sklearn.utils.class_weight import compute_class_weight\n",
        "from sklearn.metrics import accuracy_score\n",
        "from sklearn.datasets import fetch_lfw_people\n",
        "from sklearn.decomposition import PCA\n",
        "from sklearn.model_selection import train_test_split\n",
        "import tensorflow as tf\n",
        "from tensorflow.keras.models import Model\n",
        "from tensorflow.keras.optimizers import SGD, RMSprop, Adam\n",
        "from tensorflow.keras.models import Sequential\n",
        "from tensorflow.keras.layers import Input, Dense, Activation, Conv2D, MaxPool2D,MaxPooling2D, AveragePooling2D, Flatten, Dropout, BatchNormalization\n",
        "from tensorflow.keras.optimizers import SGD, RMSprop, Adam\n",
        "import matplotlib.pyplot as plt\n"
      ]
    },
    {
      "cell_type": "markdown",
      "metadata": {
        "id": "Xe3hQ4x6Tz0M"
      },
      "source": [
        "# Labeling Data"
      ]
    },
    {
      "cell_type": "markdown",
      "metadata": {
        "id": "uK38AW29Tz0R"
      },
      "source": [
        "# Training/Test Dataset"
      ]
    },
    {
      "cell_type": "code",
      "execution_count": null,
      "metadata": {
        "colab": {
          "base_uri": "https://localhost:8080/"
        },
        "id": "VrB7NSR9Tz0R",
        "outputId": "c400beda-18b2-4bd4-9cd8-797dfb2a934a"
      },
      "outputs": [],
      "source": [
        "train_dataset = tf.keras.utils.image_dataset_from_directory(\"/Users/cedricbeugre/Desktop/Deep-learning-Project-1/Dataset/Train\",batch_size=32,image_size=(256, 256),shuffle=True)\n",
        "test_dataset = tf.keras.utils.image_dataset_from_directory(\"/Users/cedricbeugre/Desktop/Deep-learning-Project-1/Dataset/Test\",batch_size=32,image_size=(256, 256),shuffle=True)\n",
        "class_names = train_dataset.class_names\n",
        "print(class_names)"
      ]
    },
    {
      "cell_type": "code",
      "execution_count": null,
      "metadata": {
        "colab": {
          "background_save": true,
          "base_uri": "https://localhost:8080/",
          "height": 591
        },
        "id": "rRzyeyWUTz0R",
        "outputId": "918cb6b3-c67d-49fa-aad4-4f3668fc0aac"
      },
      "outputs": [],
      "source": [
        "plt.figure(figsize=(10, 10))\n",
        "for images, labels in train_dataset.take(1):\n",
        "  for i in range(9):\n",
        "    ax = plt.subplot(3, 3, i + 1)\n",
        "    plt.imshow(images[i].numpy().astype(\"uint8\"))\n",
        "    plt.title(class_names[labels[i]])\n",
        "    plt.axis(\"off\")"
      ]
    },
    {
      "cell_type": "code",
      "execution_count": null,
      "metadata": {
        "id": "Rk9kpgdxTz0S"
      },
      "outputs": [],
      "source": [
        "train_dataset"
      ]
    },
    {
      "cell_type": "code",
      "execution_count": null,
      "metadata": {
        "id": "MCBr6Av0Tz0S"
      },
      "outputs": [],
      "source": [
        "images = Input((256, 256, 3,))\n",
        "inputsize = images.shape[1:]"
      ]
    },
    {
      "cell_type": "code",
      "execution_count": null,
      "metadata": {
        "colab": {
          "background_save": true,
          "base_uri": "https://localhost:8080/"
        },
        "id": "Hu9hjg1XTz0S",
        "outputId": "4713b04b-6af6-4fa5-9a23-fe2a346c59b9"
      },
      "outputs": [],
      "source": [
        "CNN_1 = Sequential()\n",
        "\n",
        "CNN_1 = Conv2D(32, kernel_size=(5,5),padding='valid',activation=\"relu\", input_shape=inputsize)(images)\n",
        "CNN_1 = MaxPooling2D(pool_size=(2,2))(CNN_1)\n",
        "CNN_1 = Conv2D(64, kernel_size=(5,5),padding='valid',activation=\"relu\")(CNN_1)\n",
        "CNN_1 = MaxPooling2D(pool_size=(2,2))(CNN_1)\n",
        "CNN_1 = Flatten()(CNN_1)\n",
        "CNN_1 = Dense(256)(CNN_1)\n",
        "CNN_1 = Dense(3)(CNN_1)\n",
        "\n",
        "predictions = Activation(\"softmax\")(CNN_1)\n",
        "\n",
        "cnn_1 = Model(inputs=images, outputs=predictions)\n",
        "\n",
        "cnn_1.compile(optimizer=Adam(), loss=\"sparse_categorical_crossentropy\", metrics=[\"acc\"])\n",
        "print(cnn_1.summary())"
      ]
    },
    {
      "cell_type": "code",
      "execution_count": null,
      "metadata": {
        "id": "6qDnrM8ZTz0S"
      },
      "outputs": [],
      "source": [
        "cnn_1.fit(train_dataset,validation_data=test_dataset,epochs=15)"
      ]
    },
    {
      "cell_type": "code",
      "execution_count": null,
      "metadata": {
        "colab": {
          "background_save": true
        },
        "id": "I28CzLGcTz0T"
      },
      "outputs": [],
      "source": [
        "cnn_1.save(\"cnn1.h5\")"
      ]
    },
    {
      "cell_type": "code",
      "execution_count": null,
      "metadata": {
        "id": "FfwFGKc2Tz0T"
      },
      "outputs": [],
      "source": [
        "cnn_1.evaluate(test_dataset)"
      ]
    },
    {
      "cell_type": "markdown",
      "metadata": {},
      "source": [
        "# First Model"
      ]
    },
    {
      "cell_type": "code",
      "execution_count": null,
      "metadata": {
        "id": "2__95aGYQ32M"
      },
      "outputs": [],
      "source": [
        "CNN_3 = Sequential()\n",
        "\n",
        "CNN_3 = Conv2D(32, kernel_size=(3,3),padding='same',activation=\"tanh\", input_shape=inputsize)(images)\n",
        "CNN_3 = MaxPooling2D(pool_size=(2, 2))(CNN_3)\n",
        "CNN_3 = Conv2D(64, kernel_size=(3,3),padding='same',activation=\"tanh\")(CNN_3)\n",
        "CNN_3 = MaxPooling2D(pool_size=(2, 2))(CNN_3)\n",
        "CNN_3 = Conv2D(128, kernel_size=(3,3),padding='same',activation=\"tanh\")(CNN_3)\n",
        "\n",
        "CNN_3 = MaxPooling2D(pool_size=(2, 2))(CNN_3)\n",
        "\n",
        "CNN_3 = Flatten()(CNN_3)\n",
        "CNN_3 = Dense(1024)(CNN_3)\n",
        "CNN_3 = Dropout(0.20)(CNN_3)\n",
        "CNN_3 = BatchNormalization(momentum=0.9)(CNN_3)\n",
        "CNN_3 = Dense(512)(CNN_3)\n",
        "CNN_3 = Dense(3)(CNN_3)\n",
        "\n",
        "predictions = Activation(\"softmax\")(CNN_3)\n",
        "\n",
        "cnn_3 = Model(inputs=images, outputs=predictions)\n",
        "\n",
        "cnn_3.compile(optimizer=Adam(), loss=\"sparse_categorical_crossentropy\", metrics=[\"acc\"])\n",
        "print(cnn_3.summary())"
      ]
    },
    {
      "cell_type": "code",
      "execution_count": null,
      "metadata": {
        "colab": {
          "background_save": true,
          "base_uri": "https://localhost:8080/"
        },
        "id": "5DlCSUXlRblc",
        "outputId": "5a7f9cb0-805b-4ded-edaf-f3d26bce0386"
      },
      "outputs": [],
      "source": [
        "cnn_3.fit(train_dataset,validation_data=test_dataset,epochs=15)"
      ]
    },
    {
      "cell_type": "code",
      "execution_count": null,
      "metadata": {},
      "outputs": [],
      "source": [
        "cnn_3.save(\"cnn3_1.h5\")"
      ]
    },
    {
      "cell_type": "code",
      "execution_count": null,
      "metadata": {
        "id": "otslU2Z0LfRp"
      },
      "outputs": [],
      "source": [
        "model = tf.keras.models.load_model('cnn3_1.h5')\n",
        "\n",
        "model.summary()\n",
        "model.evaluate(test_dataset)"
      ]
    },
    {
      "cell_type": "markdown",
      "metadata": {},
      "source": [
        "# VGG16 Test"
      ]
    },
    {
      "cell_type": "code",
      "execution_count": null,
      "metadata": {},
      "outputs": [],
      "source": [
        "CNN_4 = Sequential()\n",
        "\n",
        "CNN_4 = Conv2D(32, kernel_size=(3,3),padding='same',activation=\"relu\", input_shape=inputsize)(images)\n",
        "\n",
        "CNN_4 = Conv2D(32, kernel_size=(3,3),padding='same',activation=\"relu\", input_shape=inputsize)(CNN_4)\n",
        "CNN_4 = Conv2D(32, kernel_size=(3,3),padding='same',activation=\"relu\", input_shape=inputsize)(CNN_4)\n",
        "CNN_4 = MaxPooling2D(pool_size=(2, 2))(CNN_4)\n",
        "\n",
        "CNN_4 = Conv2D(32, kernel_size=(3,3),padding='same',activation=\"relu\", input_shape=inputsize)(CNN_4)\n",
        "CNN_4 = Conv2D(32, kernel_size=(3,3),padding='same',activation=\"relu\", input_shape=inputsize)(CNN_4)\n",
        "CNN_4 = MaxPooling2D(pool_size=(2, 2))(CNN_4)\n",
        "\n",
        "CNN_4 = Conv2D(32, kernel_size=(3,3),padding='same',activation=\"relu\", input_shape=inputsize)(CNN_4)\n",
        "CNN_4 = Conv2D(32, kernel_size=(3,3),padding='same',activation=\"relu\", input_shape=inputsize)(CNN_4)\n",
        "CNN_4 = Conv2D(32, kernel_size=(3,3),padding='same',activation=\"relu\", input_shape=inputsize)(CNN_4)\n",
        "CNN_4 = MaxPooling2D(pool_size=(2, 2))(CNN_4)\n",
        "\n",
        "CNN_4 = Conv2D(32, kernel_size=(3,3),padding='same',activation=\"relu\", input_shape=inputsize)(CNN_4)\n",
        "CNN_4 = Conv2D(32, kernel_size=(3,3),padding='same',activation=\"relu\", input_shape=inputsize)(CNN_4)\n",
        "CNN_4 = Conv2D(32, kernel_size=(3,3),padding='same',activation=\"relu\", input_shape=inputsize)(CNN_4)\n",
        "CNN_4 = MaxPooling2D(pool_size=(2, 2))(CNN_4)\n",
        "\n",
        "CNN_4 = Conv2D(32, kernel_size=(3,3),padding='same',activation=\"relu\", input_shape=inputsize)(CNN_4)\n",
        "CNN_4 = Conv2D(32, kernel_size=(3,3),padding='same',activation=\"relu\", input_shape=inputsize)(CNN_4)\n",
        "CNN_4 = Conv2D(32, kernel_size=(3,3),padding='same',activation=\"relu\", input_shape=inputsize)(CNN_4)\n",
        "CNN_4 = MaxPooling2D(pool_size=(2, 2))(CNN_4)\n",
        "\n",
        "CNN_4 = Flatten()(CNN_4)\n",
        "CNN_4 = Dense(512)(CNN_4)\n",
        "CNN_4 = Dense(3)(CNN_4)\n",
        "\n",
        "predictions = Activation(\"softmax\")(CNN_4)\n",
        "\n",
        "cnn_4 = Model(inputs=images, outputs=predictions)\n",
        "\n",
        "cnn_4.compile(optimizer=Adam(), loss=\"sparse_categorical_crossentropy\", metrics=[\"acc\"])\n",
        "\n",
        "print(cnn_4.summary())\n"
      ]
    },
    {
      "cell_type": "code",
      "execution_count": null,
      "metadata": {},
      "outputs": [],
      "source": [
        "cnn_4.fit(train_dataset,validation_data=test_dataset,epochs=15)"
      ]
    }
  ],
  "metadata": {
    "accelerator": "GPU",
    "colab": {
      "provenance": []
    },
    "gpuClass": "standard",
    "kernelspec": {
      "display_name": "Python 3.10.0 ('tf')",
      "language": "python",
      "name": "python3"
    },
    "language_info": {
      "codemirror_mode": {
        "name": "ipython",
        "version": 3
      },
      "file_extension": ".py",
      "mimetype": "text/x-python",
      "name": "python",
      "nbconvert_exporter": "python",
      "pygments_lexer": "ipython3",
      "version": "3.10.0"
    },
    "vscode": {
      "interpreter": {
        "hash": "bd92481cd724a32d39aa679a93bbd823963970fac7d872c9bf222f2882dc1a57"
      }
    }
  },
  "nbformat": 4,
  "nbformat_minor": 0
}
