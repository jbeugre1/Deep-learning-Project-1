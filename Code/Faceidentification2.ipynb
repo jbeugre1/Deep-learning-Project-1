{
  "cells": [
    {
      "cell_type": "code",
      "execution_count": null,
      "metadata": {
        "colab": {
          "base_uri": "https://localhost:8080/"
        },
        "id": "k18NivrXLGxB",
        "outputId": "6fc70826-851f-454f-91c6-a1b55016e6cb"
      },
      "outputs": [
        {
          "name": "stdout",
          "output_type": "stream",
          "text": [
            "Mounted at /content/drive\n"
          ]
        }
      ],
      "source": [
        "from google.colab import drive\n",
        "drive.mount('/content/drive')"
      ]
    },
    {
      "cell_type": "code",
      "execution_count": null,
      "metadata": {
        "id": "e1_rQuYiLJ5Y"
      },
      "outputs": [],
      "source": [
        "import pandas as pd\n",
        "import numpy as np\n",
        "import cv2\n",
        "import json\n",
        "import os\n",
        "import matplotlib.pyplot as plt\n",
        "import random\n",
        "import tensorflow as tf\n",
        "import keras\n",
        "from tensorflow.keras.optimizers import RMSprop\n",
        "from tensorflow.keras.preprocessing.image import ImageDataGenerator\n",
        "from keras.models import Sequential\n",
        "from keras import optimizers\n",
        "from keras import backend as K\n",
        "from keras.layers import Dense, Dropout, Activation, Flatten\n",
        "from keras.layers import Conv2D, MaxPooling2D, BatchNormalization\n",
        "from sklearn.model_selection import train_test_split\n",
        "from keras.preprocessing.image import ImageDataGenerator\n",
        "\n",
        "from tensorflow.keras.preprocessing.image import ImageDataGenerator\n",
        "from tensorflow.keras.applications import MobileNetV2\n",
        "from tensorflow.keras.layers import AveragePooling2D\n",
        "from tensorflow.keras.layers import Dropout\n",
        "from tensorflow.keras.layers import Flatten\n",
        "from tensorflow.keras.layers import Dense\n",
        "from tensorflow.keras.layers import Input\n",
        "from tensorflow.keras.models import Model\n",
        "from tensorflow.keras.optimizers import Adam\n",
        "from tensorflow.keras.applications.mobilenet_v2 import preprocess_input\n",
        "from tensorflow.keras.callbacks import EarlyStopping\n",
        "from tensorflow.keras.callbacks import ModelCheckpoint\n",
        "from sklearn.metrics import classification_report\n",
        "import matplotlib.pyplot as plt\n",
        "import numpy as np\n",
        "import argparse\n",
        "import os"
      ]
    },
    {
      "cell_type": "code",
      "execution_count": null,
      "metadata": {
        "id": "9VZ-QO10LKBt"
      },
      "outputs": [],
      "source": [
        "df_train_path = \"/content/drive/MyDrive/Masters/deeplearning/project/Dataset/Train\"\n",
        "df_test_path = \"/content/drive/MyDrive/Masters/deeplearning/project/Dataset/Test\"\n",
        "df_val_path = \"/content/drive/MyDrive/Masters/deeplearning/project/Dataset/Validation\""
      ]
    },
    {
      "cell_type": "code",
      "execution_count": null,
      "metadata": {
        "id": "FxEbaPXdCMfZ"
      },
      "outputs": [],
      "source": [
        "# Initialize number of classes and labels\n",
        "NUM_CLASS, class_names = None, None\n",
        "NUM_CLASS = 3\n",
        "class_names = ['face_with_mask_incorrect', 'face_with_mask_correct', 'face_no_mask']\n",
        "#class_names = ['face_with_mask', 'face_no_mask']"
      ]
    },
    {
      "cell_type": "code",
      "execution_count": null,
      "metadata": {
        "colab": {
          "base_uri": "https://localhost:8080/"
        },
        "id": "MfUUQGtPCZf7",
        "outputId": "fb28fd7f-fca4-4d20-fb87-97a1019254bc"
      },
      "outputs": [
        {
          "name": "stdout",
          "output_type": "stream",
          "text": [
            "Num of classes: 3\n",
            "Classes: ['face_with_mask_incorrect', 'face_with_mask_correct', 'face_no_mask']\n",
            "Dataset path: /content/drive/MyDrive/Masters/deeplearning/project/Dataset/Train\n",
            "Checkpoint: /content/epoch-{epoch:02d}-val_acc-{val_accuracy:.4f}.h5\n",
            "Figure save path: /content/drive/MyDrive/Masters/deeplearning/project/fig.jpg\n"
          ]
        }
      ],
      "source": [
        "LEARNING_RATE = 1e-4\n",
        "EPOCHS = 20\n",
        "BATCH_SIZE = 32\n",
        "IMG_SIZE = 224\n",
        "dataset_path = \"/content/drive/MyDrive/Masters/deeplearning/project/Dataset/Train\"\n",
        "checkpoint_filepath = \"/content/epoch-{epoch:02d}-val_acc-{val_accuracy:.4f}.h5\"\n",
        "model_save_path = \"/content/drive/MyDrive/Masters/deeplearning/project/mask_detector_v2.h5\"\n",
        "figure_save_path = \"/content/drive/MyDrive/Masters/deeplearning/project/fig.jpg\"\n",
        "\n",
        "print(\"Num of classes: \" + str(NUM_CLASS))\n",
        "print(\"Classes: \" + str(class_names))\n",
        "print(\"Dataset path: \" + dataset_path)\n",
        "print(\"Checkpoint: \" + checkpoint_filepath)\n",
        "print(\"Figure save path: \" + figure_save_path)"
      ]
    },
    {
      "cell_type": "code",
      "execution_count": null,
      "metadata": {
        "colab": {
          "base_uri": "https://localhost:8080/"
        },
        "id": "t8EfWSsdCZjR",
        "outputId": "89a64d6b-8447-4b22-d6d6-fefea2cdcd93"
      },
      "outputs": [
        {
          "name": "stdout",
          "output_type": "stream",
          "text": [
            "Found 9463 images belonging to 3 classes.\n",
            "Found 2364 images belonging to 3 classes.\n",
            "Found 3155 images belonging to 3 classes.\n"
          ]
        }
      ],
      "source": [
        "data_generator = ImageDataGenerator(\n",
        "    rotation_range=20,\n",
        "    zoom_range=0.15,\n",
        "    width_shift_range=0.2,\n",
        "    height_shift_range=0.2,\n",
        "    shear_range=0.15,\n",
        "    horizontal_flip=True,\n",
        "    fill_mode=\"nearest\",\n",
        "    preprocessing_function=preprocess_input,\n",
        "    validation_split=0.2)\n",
        "\n",
        "\n",
        "# Set as training data\n",
        "train_generator = data_generator.flow_from_directory(\n",
        "    dataset_path,\n",
        "    target_size=(IMG_SIZE, IMG_SIZE),\n",
        "    batch_size=BATCH_SIZE,\n",
        "    class_mode=\"categorical\",\n",
        "    shuffle=True,\n",
        "    subset='training')\n",
        "\n",
        "# Set as validation data\n",
        "validation_generator = data_generator.flow_from_directory(\n",
        "    dataset_path,\n",
        "    target_size=(IMG_SIZE, IMG_SIZE),\n",
        "    batch_size=BATCH_SIZE,\n",
        "    class_mode=\"categorical\",\n",
        "    shuffle=False,\n",
        "    subset='validation')\n",
        "\n",
        "# Set as test data\n",
        "test_generator = data_generator.flow_from_directory(\n",
        "    \"/content/drive/MyDrive/Masters/deeplearning/project/Dataset/Test\",\n",
        "    target_size=(IMG_SIZE, IMG_SIZE),\n",
        "    batch_size=BATCH_SIZE,\n",
        "    class_mode=\"categorical\",\n",
        "    shuffle=False,\n",
        "    subset='training')"
      ]
    },
    {
      "cell_type": "code",
      "execution_count": null,
      "metadata": {
        "colab": {
          "base_uri": "https://localhost:8080/"
        },
        "id": "elAZUR8mCZl6",
        "outputId": "d9c8ed1f-54c7-413d-e620-79eb2ac97431"
      },
      "outputs": [
        {
          "name": "stderr",
          "output_type": "stream",
          "text": [
            "WARNING:tensorflow:`input_shape` is undefined or non-square, or `rows` is not in [96, 128, 160, 192, 224]. Weights for input shape (224, 224) will be loaded as the default.\n"
          ]
        },
        {
          "name": "stdout",
          "output_type": "stream",
          "text": [
            "Downloading data from https://storage.googleapis.com/tensorflow/keras-applications/mobilenet_v2/mobilenet_v2_weights_tf_dim_ordering_tf_kernels_1.0_224_no_top.h5\n",
            "9406464/9406464 [==============================] - 0s 0us/step\n"
          ]
        }
      ],
      "source": [
        "# Load the pre-trained model and remove the head FC layer\n",
        "base_model = MobileNetV2(weights=\"imagenet\", include_top=False, input_tensor=Input(shape=(IMG_SIZE, IMG_SIZE, 3)))\n",
        "\n",
        "# Construct the head of the model that will be placed on top of the base model\n",
        "head_model = base_model.output\n",
        "head_model = AveragePooling2D(pool_size=(5, 5))(head_model)\n",
        "head_model = Flatten(name=\"flatten\")(head_model)\n",
        "head_model = Dense(128, activation=\"relu\")(head_model)\n",
        "head_model = Dropout(0.5)(head_model)\n",
        "head_model = Dense(64, activation=\"relu\")(head_model)\n",
        "head_model = Dropout(0.2)(head_model)\n",
        "head_model = Dense(NUM_CLASS, activation=\"softmax\")(head_model)\n",
        "\n",
        "# Place the head FC model on top of the base model (this will become the actual model we will train)\n",
        "model = Model(inputs=base_model.input, outputs=head_model)\n",
        "\n",
        "# Loop over all layers in the base model and freeze them so they will *not* be updated during the first training process\n",
        "for layer in base_model.layers:\n",
        "    layer.trainable = False"
      ]
    },
    {
      "cell_type": "code",
      "execution_count": null,
      "metadata": {
        "id": "uz6XFEga7DV-"
      },
      "outputs": [],
      "source": [
        "#model.summary()"
      ]
    },
    {
      "cell_type": "code",
      "execution_count": null,
      "metadata": {
        "colab": {
          "base_uri": "https://localhost:8080/"
        },
        "id": "tC9hwBGHCZoj",
        "outputId": "03bf7015-db9f-4170-f316-d910676052be"
      },
      "outputs": [
        {
          "name": "stderr",
          "output_type": "stream",
          "text": [
            "/usr/local/lib/python3.8/dist-packages/keras/optimizers/optimizer_v2/adam.py:110: UserWarning: The `lr` argument is deprecated, use `learning_rate` instead.\n",
            "  super(Adam, self).__init__(name, **kwargs)\n"
          ]
        },
        {
          "name": "stdout",
          "output_type": "stream",
          "text": [
            "[INFO] training head...\n",
            "Epoch 1/20\n",
            "295/295 [==============================] - 3083s 10s/step - loss: 0.4547 - accuracy: 0.8212 - val_loss: 0.0958 - val_accuracy: 0.9739\n",
            "Epoch 2/20\n",
            "295/295 [==============================] - 532s 2s/step - loss: 0.1612 - accuracy: 0.9480 - val_loss: 0.0544 - val_accuracy: 0.9803\n",
            "Epoch 3/20\n",
            "295/295 [==============================] - 539s 2s/step - loss: 0.1159 - accuracy: 0.9618 - val_loss: 0.0537 - val_accuracy: 0.9824\n",
            "Epoch 4/20\n",
            "295/295 [==============================] - 536s 2s/step - loss: 0.0911 - accuracy: 0.9693 - val_loss: 0.0404 - val_accuracy: 0.9859\n",
            "Epoch 5/20\n",
            "295/295 [==============================] - 533s 2s/step - loss: 0.0773 - accuracy: 0.9759 - val_loss: 0.0431 - val_accuracy: 0.9833\n",
            "Epoch 6/20\n",
            "295/295 [==============================] - 527s 2s/step - loss: 0.0685 - accuracy: 0.9761 - val_loss: 0.0359 - val_accuracy: 0.9876\n",
            "Epoch 7/20\n",
            "295/295 [==============================] - 526s 2s/step - loss: 0.0577 - accuracy: 0.9789 - val_loss: 0.0333 - val_accuracy: 0.9880\n",
            "Epoch 8/20\n",
            "295/295 [==============================] - 525s 2s/step - loss: 0.0517 - accuracy: 0.9820 - val_loss: 0.0354 - val_accuracy: 0.9889\n",
            "Epoch 9/20\n",
            "295/295 [==============================] - 528s 2s/step - loss: 0.0538 - accuracy: 0.9827 - val_loss: 0.0380 - val_accuracy: 0.9854\n",
            "Epoch 10/20\n",
            "295/295 [==============================] - 526s 2s/step - loss: 0.0430 - accuracy: 0.9848 - val_loss: 0.0331 - val_accuracy: 0.9893\n",
            "Epoch 11/20\n",
            "295/295 [==============================] - 520s 2s/step - loss: 0.0424 - accuracy: 0.9860 - val_loss: 0.0286 - val_accuracy: 0.9872\n",
            "Epoch 12/20\n",
            "295/295 [==============================] - 532s 2s/step - loss: 0.0421 - accuracy: 0.9857 - val_loss: 0.0293 - val_accuracy: 0.9906\n",
            "Epoch 13/20\n",
            "295/295 [==============================] - 534s 2s/step - loss: 0.0396 - accuracy: 0.9864 - val_loss: 0.0344 - val_accuracy: 0.9884\n",
            "Epoch 14/20\n",
            "295/295 [==============================] - 530s 2s/step - loss: 0.0414 - accuracy: 0.9854 - val_loss: 0.0240 - val_accuracy: 0.9910\n",
            "Epoch 15/20\n",
            "295/295 [==============================] - 533s 2s/step - loss: 0.0341 - accuracy: 0.9894 - val_loss: 0.0319 - val_accuracy: 0.9902\n",
            "Epoch 16/20\n",
            "295/295 [==============================] - 535s 2s/step - loss: 0.0339 - accuracy: 0.9879 - val_loss: 0.0305 - val_accuracy: 0.9893\n",
            "Epoch 17/20\n",
            "295/295 [==============================] - ETA: 0s - loss: 0.0330 - accuracy: 0.9898Restoring model weights from the end of the best epoch: 14.\n",
            "295/295 [==============================] - 522s 2s/step - loss: 0.0330 - accuracy: 0.9898 - val_loss: 0.0291 - val_accuracy: 0.9910\n",
            "Epoch 17: early stopping\n"
          ]
        }
      ],
      "source": [
        "opt = Adam(lr=LEARNING_RATE)    \n",
        "model.compile(loss=\"categorical_crossentropy\", optimizer=opt, metrics=[\"accuracy\"])\n",
        "# Add early stopping criterion\n",
        "early_stopping = EarlyStopping(\n",
        "    monitor='val_accuracy',\n",
        "    min_delta=0.0001,\n",
        "    patience=3,\n",
        "    verbose=1,\n",
        "    mode='auto',\n",
        "    baseline=None,\n",
        "    restore_best_weights=True)\n",
        "\n",
        "# Add model checkpoint\n",
        "checkpoint = ModelCheckpoint(\n",
        "    filepath=checkpoint_filepath,\n",
        "    save_best_only=False,\n",
        "    save_weights_only=False,\n",
        "    monitor='val_accuracy',\n",
        "    mode='auto')\n",
        "\n",
        "# Train the head of the network\n",
        "print(\"[INFO] training head...\")\n",
        "H = model.fit(\n",
        "    train_generator,\n",
        "    steps_per_epoch=train_generator.samples // train_generator.batch_size,\n",
        "    callbacks=[early_stopping, checkpoint],\n",
        "    validation_data=validation_generator,\n",
        "    validation_steps=validation_generator.samples // validation_generator.batch_size,\n",
        "    epochs=EPOCHS)\n",
        "\n",
        "# Save best model\n",
        "model.save(model_save_path)\n"
      ]
    },
    {
      "cell_type": "code",
      "execution_count": null,
      "metadata": {
        "id": "IkMK9kM8WTYB"
      },
      "outputs": [],
      "source": [
        "# from keras.models import load_model\n",
        "# model = load_model('/content/drive/MyDrive/Masters/deeplearning/project/mask_detector_v2.h5')"
      ]
    },
    {
      "cell_type": "code",
      "execution_count": null,
      "metadata": {
        "colab": {
          "base_uri": "https://localhost:8080/",
          "height": 662
        },
        "id": "j8-xJ45UmGb6",
        "outputId": "f9f1f275-5fa1-4e79-b5bc-20d9b9cf6a84"
      },
      "outputs": [
        {
          "name": "stderr",
          "output_type": "stream",
          "text": [
            "<ipython-input-12-6cdf5ad9eccf>:2: UserWarning: `Model.predict_generator` is deprecated and will be removed in a future version. Please use `Model.predict`, which supports generators.\n",
            "  prediction = model.predict_generator(\n"
          ]
        },
        {
          "name": "stdout",
          "output_type": "stream",
          "text": [
            "74/74 [==============================] - 786s 11s/step\n",
            "Classification Report:\n",
            "                          precision    recall  f1-score   support\n",
            "\n",
            "face_with_mask_incorrect       1.00      1.00      1.00       716\n",
            "  face_with_mask_correct       0.99      0.98      0.98       822\n",
            "            face_no_mask       0.98      0.99      0.99       826\n",
            "\n",
            "                accuracy                           0.99      2364\n",
            "               macro avg       0.99      0.99      0.99      2364\n",
            "            weighted avg       0.99      0.99      0.99      2364\n",
            "\n",
            "[[715   0   1]\n",
            " [  3 807  12]\n",
            " [  0  11 815]]\n"
          ]
        },
        {
          "data": {
            "image/png": "[encoded data removed]",
            "text/plain": [
              "<Figure size 432x288 with 2 Axes>"
            ]
          },
          "metadata": {},
          "output_type": "display_data"
        }
      ],
      "source": [
        "# Create classification report\n",
        "prediction = model.predict_generator(\n",
        "    generator=validation_generator,\n",
        "    verbose=1)\n",
        "y_pred = np.argmax(prediction, axis=1)\n",
        "print(\"Classification Report:\")\n",
        "print(classification_report(validation_generator.classes, y_pred, target_names=class_names))\n",
        "\n",
        "#Generate the confusion matrix\n",
        "cf_matrix = confusion_matrix(validation_generator.classes, y_pred)\n",
        "print(cf_matrix)\n",
        "\n",
        "\n",
        "import seaborn as sns\n",
        "\n",
        "ax = sns.heatmap(cf_matrix, annot=True, cmap='Blues')\n",
        "\n",
        "ax.set_title('Seaborn Confusion Matrix with labels\\n\\n');\n",
        "ax.set_xlabel('\\nPredicted Values')\n",
        "ax.set_ylabel('Actual Values ');\n",
        "\n",
        "## Ticket labels - List must be in alphabetical order\n",
        "ax.xaxis.set_ticklabels(['False','True'])\n",
        "ax.yaxis.set_ticklabels(['False','True'])\n",
        "\n",
        "## Display the visualization of the Confusion Matrix.\n",
        "plt.show()"
      ]
    },
    {
      "cell_type": "code",
      "execution_count": null,
      "metadata": {
        "colab": {
          "base_uri": "https://localhost:8080/"
        },
        "id": "KakqgWIsWjRc",
        "outputId": "a97c83f3-e285-46b8-cbb5-2521efd74cdf"
      },
      "outputs": [
        {
          "name": "stderr",
          "output_type": "stream",
          "text": [
            "<ipython-input-14-1488ea9c8d4d>:2: UserWarning: `Model.predict_generator` is deprecated and will be removed in a future version. Please use `Model.predict`, which supports generators.\n",
            "  prediction = model.predict_generator(\n"
          ]
        },
        {
          "name": "stdout",
          "output_type": "stream",
          "text": [
            "99/99 [==============================] - 150s 1s/step\n",
            "Classification Report:\n",
            "                          precision    recall  f1-score   support\n",
            "\n",
            "face_with_mask_incorrect       1.00      1.00      1.00       956\n",
            "  face_with_mask_correct       0.98      0.99      0.99      1097\n",
            "            face_no_mask       0.99      0.99      0.99      1102\n",
            "\n",
            "                accuracy                           0.99      3155\n",
            "               macro avg       0.99      0.99      0.99      3155\n",
            "            weighted avg       0.99      0.99      0.99      3155\n",
            "\n"
          ]
        }
      ],
      "source": [
        "# Create classification report\n",
        "prediction = model.predict_generator(\n",
        "    generator=test_generator,\n",
        "    verbose=1)\n",
        "y_pred = np.argmax(prediction, axis=1)\n",
        "print(\"Classification Report:\")\n",
        "print(classification_report(test_generator.classes, y_pred, target_names=class_names))"
      ]
    },
    {
      "cell_type": "code",
      "execution_count": null,
      "metadata": {
        "colab": {
          "base_uri": "https://localhost:8080/",
          "height": 399
        },
        "id": "gNZiV6D2biJ6",
        "outputId": "9afa3358-7769-4288-b01b-a130081077c3"
      },
      "outputs": [
        {
          "name": "stdout",
          "output_type": "stream",
          "text": [
            "[[ 955    1    0]\n",
            " [   4 1084    9]\n",
            " [   0   16 1086]]\n"
          ]
        },
        {
          "data": {
            "image/png": "[encoded data removed]",
            "text/plain": [
              "<Figure size 432x288 with 2 Axes>"
            ]
          },
          "metadata": {},
          "output_type": "display_data"
        }
      ],
      "source": [
        "from sklearn.metrics import confusion_matrix\n",
        "from sklearn.metrics import plot_confusion_matrix\n",
        "\n",
        "#Generate the confusion matrix\n",
        "cf_matrix = confusion_matrix(test_generator.classes, y_pred)\n",
        "\n",
        "print(cf_matrix)\n",
        "\n",
        "import seaborn as sns\n",
        "\n",
        "ax = sns.heatmap(cf_matrix, annot=True, cmap='Blues')\n",
        "\n",
        "ax.set_title('Seaborn Confusion Matrix with labels\\n\\n');\n",
        "ax.set_xlabel('\\nPredicted Values')\n",
        "ax.set_ylabel('Actual Values ');\n",
        "\n",
        "## Ticket labels - List must be in alphabetical order\n",
        "# ax.xaxis.set_ticklabels(class_names)\n",
        "# ax.yaxis.set_ticklabels(class_names)\n",
        "\n",
        "## Display the visualization of the Confusion Matrix.\n",
        "plt.show()"
      ]
    },
    {
      "cell_type": "code",
      "execution_count": null,
      "metadata": {
        "colab": {
          "base_uri": "https://localhost:8080/",
          "height": 562
        },
        "id": "BkPAul_HDp7h",
        "outputId": "cdb9b232-745d-43db-a3e6-bb15ad7f1e5f"
      },
      "outputs": [
        {
          "name": "stderr",
          "output_type": "stream",
          "text": [
            "<ipython-input-17-6e66fb6463ac>:2: UserWarning: `Model.predict_generator` is deprecated and will be removed in a future version. Please use `Model.predict`, which supports generators.\n",
            "  prediction = model.predict_generator(\n"
          ]
        },
        {
          "name": "stdout",
          "output_type": "stream",
          "text": [
            "25/25 [==============================] - 35s 1s/step\n",
            "Classification Report:\n",
            "                          precision    recall  f1-score   support\n",
            "\n",
            "face_with_mask_incorrect       1.00      1.00      1.00       238\n",
            "  face_with_mask_correct       0.97      0.99      0.98       274\n",
            "            face_no_mask       0.99      0.97      0.98       275\n",
            "\n",
            "                accuracy                           0.99       787\n",
            "               macro avg       0.99      0.99      0.99       787\n",
            "            weighted avg       0.99      0.99      0.99       787\n",
            "\n"
          ]
        },
        {
          "data": {
            "image/png": "[encoded data removed]",
            "text/plain": [
              "<Figure size 432x288 with 1 Axes>"
            ]
          },
          "metadata": {},
          "output_type": "display_data"
        }
      ],
      "source": [
        "# Create classification report\n",
        "prediction = model.predict_generator(\n",
        "    generator=test_generator,\n",
        "    verbose=1)\n",
        "y_pred = np.argmax(prediction, axis=1)\n",
        "print(\"Classification Report:\")\n",
        "print(classification_report(test_generator.classes, y_pred, target_names=class_names))\n",
        "\n",
        "# Plot the training loss and accuracy\n",
        "plt.style.use(\"ggplot\")\n",
        "plt.figure()\n",
        "plt.plot(np.arange(0, len(H.history[\"loss\"])), H.history[\"loss\"], label=\"train_loss\")\n",
        "plt.plot(np.arange(0, len(H.history[\"val_loss\"])), H.history[\"val_loss\"], label=\"val_loss\")\n",
        "plt.plot(np.arange(0, len(H.history[\"accuracy\"])), H.history[\"accuracy\"], label=\"train_acc\")\n",
        "plt.plot(np.arange(0, len(H.history[\"val_accuracy\"])), H.history[\"val_accuracy\"], label=\"val_acc\")\n",
        "plt.title(\"Training Loss and Accuracy\")\n",
        "plt.xlabel(\"Epoch #\")\n",
        "plt.ylabel(\"Loss/Accuracy\")\n",
        "plt.legend(loc=\"upper right\")\n",
        "plt.savefig(figure_save_path)"
      ]
    },
    {
      "cell_type": "code",
      "execution_count": null,
      "metadata": {
        "id": "y9JPO8u4ZYRb"
      },
      "outputs": [],
      "source": []
    },
    {
      "cell_type": "code",
      "execution_count": null,
      "metadata": {
        "id": "tTu2OSoiZYVj"
      },
      "outputs": [],
      "source": []
    },
    {
      "cell_type": "code",
      "execution_count": null,
      "metadata": {
        "id": "Rdo2SsHUZYYa"
      },
      "outputs": [],
      "source": []
    },
    {
      "cell_type": "code",
      "execution_count": null,
      "metadata": {
        "id": "t632pjI1ZYa1"
      },
      "outputs": [],
      "source": []
    }
  ],
  "metadata": {
    "colab": {
      "provenance": []
    },
    "kernelspec": {
      "display_name": "Python 3.9.6 64-bit",
      "language": "python",
      "name": "python3"
    },
    "language_info": {
      "name": "python",
      "version": "3.9.6"
    },
    "vscode": {
      "interpreter": {
        "hash": "31f2aee4e71d21fbe5cf8b01ff0e069b9275f58929596ceb00d14d90e3e16cd6"
      }
    }
  },
  "nbformat": 4,
  "nbformat_minor": 0
}
